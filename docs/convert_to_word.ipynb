{
 "cells": [
  {
   "cell_type": "code",
   "execution_count": 9,
   "id": "624d096f",
   "metadata": {},
   "outputs": [],
   "source": [
    "# Import Required Libraries\n",
    "from docx import Document\n",
    "from docx.shared import Pt\n",
    "import os\n",
    "\n",
    "# For reading Markdown files\n",
    "import glob\n"
   ]
  },
  {
   "cell_type": "code",
   "execution_count": 10,
   "id": "50815142",
   "metadata": {},
   "outputs": [],
   "source": [
    "# Load Files for Conversion\n",
    "\n",
    "# Path to the explanation markdown files\n",
    "desc_dir = os.path.join('..', 'docs', 'explanation_desc')\n",
    "md_files = glob.glob(os.path.join(desc_dir, '*.md'))\n",
    "\n",
    "# Read all markdown files into a list of (filename, content)\n",
    "explanations = []\n",
    "for md_file in md_files:\n",
    "    with open(md_file, 'r', encoding='utf-8') as f:\n",
    "        content = f.read()\n",
    "    filename = os.path.basename(md_file)\n",
    "    explanations.append((filename, content))\n"
   ]
  },
  {
   "cell_type": "code",
   "execution_count": 11,
   "id": "fb484b25",
   "metadata": {},
   "outputs": [],
   "source": [
    "# Convert Files to Word Document\n",
    "\n",
    "doc = Document()\n",
    "doc.add_heading('AI-Driven Autonomous DBMS: Code Explanations', 0)\n",
    "\n",
    "for filename, content in sorted(explanations):\n",
    "    doc.add_heading(filename, level=1)\n",
    "    lines = content.splitlines()\n",
    "    in_code_block = False\n",
    "    code_block = []\n",
    "    for line in lines:\n",
    "        if line.strip().startswith('```'):\n",
    "            if not in_code_block:\n",
    "                in_code_block = True\n",
    "                code_block = []\n",
    "            else:\n",
    "                # End of code block, add as preformatted text\n",
    "                in_code_block = False\n",
    "                if code_block:\n",
    "                    code_para = doc.add_paragraph()\n",
    "                    code_para.style = 'Normal'\n",
    "                    run = code_para.add_run('\\n'.join(code_block))\n",
    "                    run.font.name = 'Consolas'\n",
    "                    run.font.size = Pt(9)\n",
    "            continue\n",
    "        if in_code_block:\n",
    "            code_block.append(line)\n",
    "        elif line.strip().startswith('# '):\n",
    "            doc.add_heading(line.strip('# ').strip(), level=2)\n",
    "        elif line.strip().startswith('---'):\n",
    "            continue\n",
    "        elif line.strip().startswith('- '):\n",
    "            doc.add_paragraph(line.strip('- ').strip(), style='List Bullet')\n",
    "        else:\n",
    "            doc.add_paragraph(line)\n"
   ]
  },
  {
   "cell_type": "code",
   "execution_count": 12,
   "id": "55f8c4e7",
   "metadata": {},
   "outputs": [
    {
     "name": "stdout",
     "output_type": "stream",
     "text": [
      "Word document saved to ..\\docs\\ADBMS_Code_Explanations.docx\n"
     ]
    }
   ],
   "source": [
    "# Save the Word Document\n",
    "output_path = os.path.join('..', 'docs', 'ADBMS_Code_Explanations.docx')\n",
    "doc.save(output_path)\n",
    "print(f\"Word document saved to {output_path}\")"
   ]
  }
 ],
 "metadata": {
  "kernelspec": {
   "display_name": ".venv",
   "language": "python",
   "name": "python3"
  },
  "language_info": {
   "codemirror_mode": {
    "name": "ipython",
    "version": 3
   },
   "file_extension": ".py",
   "mimetype": "text/x-python",
   "name": "python",
   "nbconvert_exporter": "python",
   "pygments_lexer": "ipython3",
   "version": "3.12.4"
  }
 },
 "nbformat": 4,
 "nbformat_minor": 5
}
